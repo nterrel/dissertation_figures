{
 "cells": [
  {
   "cell_type": "code",
   "execution_count": 7,
   "id": "eda20df4-8479-4b8b-901a-266c895c7d8f",
   "metadata": {},
   "outputs": [],
   "source": [
    "import pandas as pd\n",
    "import matplotlib.pyplot as plt\n",
    "import seaborn as sns\n",
    "import torch\n",
    "import numpy as np"
   ]
  },
  {
   "cell_type": "code",
   "execution_count": 8,
   "id": "64089f9c-ea14-4ac9-8d09-70f500e74695",
   "metadata": {},
   "outputs": [],
   "source": [
    "original_formula = pd.read_parquet('/Users/nickterrel/Dissertation_figures/early_earth/combined_original_formula.pq')\n",
    "original_mol = pd.read_parquet('/Users/nickterrel/Dissertation_figures/early_earth/combined_original_molecule.pq')\n",
    "quench_formula = pd.read_parquet('/Users/nickterrel/Dissertation_figures/early_earth/combined_quenched_formula.pq')\n",
    "quench_mol = pd.read_parquet('/Users/nickterrel/Dissertation_figures/early_earth/combined_quenched_molecule.pq')"
   ]
  },
  {
   "cell_type": "code",
   "execution_count": 9,
   "id": "7db4c544-2f48-45fc-bc85-629dbb5d28c0",
   "metadata": {},
   "outputs": [],
   "source": [
    "plt.rcParams[\"font.family\"] = \"Times New Roman\"\n",
    "plt.rcParams[\"font.size\"] = 14\n",
    "plt.rcParams[\"figure.figsize\"] = (10,6)\n",
    "plt.rcParams[\"figure.dpi\"] = 200\n",
    "\n",
    "purple = \"#967BB6\""
   ]
  },
  {
   "cell_type": "code",
   "execution_count": 10,
   "id": "ba5020c4-ece7-4d59-8695-eeaeef87f233",
   "metadata": {},
   "outputs": [
    {
     "name": "stdout",
     "output_type": "stream",
     "text": [
      "['Alanine' 'Glycine'] \n",
      " ['Alanine' 'Glycine' 'Aspartic Acid' 'Serine' 'Cytosine']\n"
     ]
    }
   ],
   "source": [
    "print(original_mol['name'].unique(), '\\n', quench_mol['name'].unique())"
   ]
  },
  {
   "cell_type": "code",
   "execution_count": 11,
   "id": "19a92ebd-d7a3-40a0-b493-e81bc2f7e826",
   "metadata": {},
   "outputs": [
    {
     "name": "stdout",
     "output_type": "stream",
     "text": [
      "                        index   counts   frame\n",
      "0                         HHO  1733413  224713\n",
      "1                       CHHHH   892704  224713\n",
      "2                           H   857336  224713\n",
      "3                        HHHN   794904  224713\n",
      "4                          HH   649692  224713\n",
      "...                       ...      ...     ...\n",
      "25098              CCHHHHOOOO        1   24221\n",
      "25099                CCCCCHNO        1   24221\n",
      "25100    CCCCCCHHHHHHHHHHNNNO        1   24221\n",
      "25101          CCCCCCHHHHHNNN        1   24221\n",
      "25102  CCCCCCCHHHHHHHHHHHNOOO        1   24221\n",
      "\n",
      "[25103 rows x 3 columns] \n",
      "       frame  formula flatten_formula       smiles     name  \\\n",
      "0    224713  C3H7NO2   CCCHHHHHHHNOO  CC(C(=O)O)N  Alanine   \n",
      "1    224713  C3H7NO2   CCCHHHHHHHNOO  CC(C(=O)O)N  Alanine   \n",
      "2    224713  C2H5NO2      CCHHHHHNOO   C(C(=O)O)N  Glycine   \n",
      "3    224713  C2H5NO2      CCHHHHHNOO   C(C(=O)O)N  Glycine   \n",
      "4    224713  C2H5NO2      CCHHHHHNOO   C(C(=O)O)N  Glycine   \n",
      "..      ...      ...             ...          ...      ...   \n",
      "297   24221  C2H5NO2      CCHHHHHNOO   C(C(=O)O)N  Glycine   \n",
      "298   24221  C2H5NO2      CCHHHHHNOO   C(C(=O)O)N  Glycine   \n",
      "299   24221  C2H5NO2      CCHHHHHNOO   C(C(=O)O)N  Glycine   \n",
      "300   24221  C2H5NO2      CCHHHHHNOO   C(C(=O)O)N  Glycine   \n",
      "301   24221  C2H5NO2      CCHHHHHNOO   C(C(=O)O)N  Glycine   \n",
      "\n",
      "                                          atom_indices  \n",
      "0    [353544, 1145124, 4559774, 5346574, 6559748, 8...  \n",
      "1    [3091795, 4883584, 6693908, 9467811, 9511606, ...  \n",
      "2    [624761, 1620658, 1925826, 3642599, 6411730, 8...  \n",
      "3    [1274167, 3944514, 4239609, 6601451, 7029830, ...  \n",
      "4    [5740906, 8519877, 8854809, 11084993, 12391601...  \n",
      "..                                                 ...  \n",
      "297  [1153216, 3153050, 8114304, 8114305, 9229764, ...  \n",
      "298  [961024, 5012369, 5338214, 7643654, 10123992, ...  \n",
      "299  [519502, 5383563, 8017313, 9056550, 9056551, 1...  \n",
      "300  [2565083, 4258973, 5699655, 6375817, 9499456, ...  \n",
      "301  [1184508, 8535782, 8673183, 9256595, 10006660,...  \n",
      "\n",
      "[302 rows x 6 columns] \n",
      "                               index   counts   frame\n",
      "0                               HHO  1904583  224713\n",
      "1                             CHHHH  1095506  224713\n",
      "2                              HHHN   832876  224713\n",
      "3                                HH   690202  224713\n",
      "4                             HHHHN   177397  224713\n",
      "...                             ...      ...     ...\n",
      "25715         CCCCCCCHHHHHHHHHNOOOO        1   24221\n",
      "25716                    CCHHHNNNOO        1   24221\n",
      "25717                      CCCCHNNN        1   24221\n",
      "25718                    CCCHNNOOOO        1   24221\n",
      "25719  CCCCCCCCCCCHHHHHHHHHHHHHHNNN        1   24221\n",
      "\n",
      "[25720 rows x 3 columns] \n",
      "       frame  formula flatten_formula          smiles     name  \\\n",
      "0    224713  C3H7NO2   CCCHHHHHHHNOO     CC(C(=O)O)N  Alanine   \n",
      "1    224713  C3H7NO2   CCCHHHHHHHNOO     CC(C(=O)O)N  Alanine   \n",
      "2    224713  C2H5NO2      CCHHHHHNOO      C(C(=O)O)N  Glycine   \n",
      "3    224713  C2H5NO2      CCHHHHHNOO      C(C(=O)O)N  Glycine   \n",
      "4    224713  C2H5NO2      CCHHHHHNOO      C(C(=O)O)N  Glycine   \n",
      "..      ...      ...             ...             ...      ...   \n",
      "485   24221  C2H5NO2      CCHHHHHNOO      C(C(=O)O)N  Glycine   \n",
      "486   24221  C2H5NO2      CCHHHHHNOO      C(C(=O)O)N  Glycine   \n",
      "487   24221  C2H5NO2      CCHHHHHNOO      C(C(=O)O)N  Glycine   \n",
      "488   24221  C2H5NO2      CCHHHHHNOO      C(C(=O)O)N  Glycine   \n",
      "489   24221  C3H7NO3  CCCHHHHHHHNOOO  C(C(C(=O)O)N)O   Serine   \n",
      "\n",
      "                                          atom_indices  \n",
      "0    [431696, 2972081, 3725516, 5842740, 6476561, 6...  \n",
      "1    [353544, 1145124, 4559774, 5346574, 6559748, 8...  \n",
      "2    [856989, 4601145, 7589286, 8732939, 9458625, 1...  \n",
      "3    [385746, 985133, 3577429, 5875217, 7464983, 99...  \n",
      "4    [1274167, 3944514, 4239609, 6601451, 7029830, ...  \n",
      "..                                                 ...  \n",
      "485  [2301843, 2333820, 2840876, 8134328, 8231001, ...  \n",
      "486  [273442, 3232761, 3675254, 4189247, 8486018, 9...  \n",
      "487  [2264459, 5075720, 6170825, 8793684, 9194276, ...  \n",
      "488  [6332126, 7277444, 11296772, 11971530, 1337211...  \n",
      "489  [475938, 4677426, 5882124, 6371171, 7654724, 7...  \n",
      "\n",
      "[490 rows x 6 columns]\n"
     ]
    }
   ],
   "source": [
    "print(original_formula, '\\n',\n",
    "     original_mol, '\\n',\n",
    "     quench_formula, '\\n',\n",
    "     quench_mol)"
   ]
  },
  {
   "cell_type": "code",
   "execution_count": 14,
   "id": "0a6c83d9-d3e3-4944-9596-ec4fe478d8f4",
   "metadata": {},
   "outputs": [
    {
     "data": {
      "text/plain": [
       "(302, 490)"
      ]
     },
     "execution_count": 14,
     "metadata": {},
     "output_type": "execute_result"
    }
   ],
   "source": [
    "len(original_mol), len(quench_mol)"
   ]
  },
  {
   "cell_type": "code",
   "execution_count": null,
   "id": "3fee4f55-69bb-486b-92c3-9acf30788b33",
   "metadata": {},
   "outputs": [],
   "source": []
  },
  {
   "cell_type": "code",
   "execution_count": null,
   "id": "48f39ac2-b48b-4c41-baa8-5ce24d414a3f",
   "metadata": {},
   "outputs": [],
   "source": []
  },
  {
   "cell_type": "code",
   "execution_count": null,
   "id": "cfeb1678-24f8-4480-a0e9-258632dbdbf8",
   "metadata": {},
   "outputs": [],
   "source": []
  },
  {
   "cell_type": "code",
   "execution_count": null,
   "id": "a60aefb1-a445-4ed7-8b3e-6b9a8490c3e0",
   "metadata": {},
   "outputs": [],
   "source": []
  }
 ],
 "metadata": {
  "kernelspec": {
   "display_name": "Python 3 (ipykernel)",
   "language": "python",
   "name": "python3"
  },
  "language_info": {
   "codemirror_mode": {
    "name": "ipython",
    "version": 3
   },
   "file_extension": ".py",
   "mimetype": "text/x-python",
   "name": "python",
   "nbconvert_exporter": "python",
   "pygments_lexer": "ipython3",
   "version": "3.13.1"
  }
 },
 "nbformat": 4,
 "nbformat_minor": 5
}
