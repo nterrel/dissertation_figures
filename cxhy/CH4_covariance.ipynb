{
 "cells": [
  {
   "cell_type": "code",
   "execution_count": 1,
   "id": "ebb22891",
   "metadata": {},
   "outputs": [],
   "source": [
    "import torch\n",
    "import torchani\n",
    "from torchani.datasets import ANIDataset\n",
    "from torchani.units import hartree2kcalpermol\n",
    "from torchani.utils import PERIODIC_TABLE\n",
    "import ase\n",
    "from ase import io\n",
    "from ase.optimize import BFGS\n",
    "from ase.visualize import view\n",
    "\n",
    "import numpy as np\n",
    "import pandas as pd\n",
    "import matplotlib.pyplot as plt\n",
    "import math\n",
    "from pathlib import Path"
   ]
  },
  {
   "cell_type": "code",
   "execution_count": 2,
   "id": "6ba74355",
   "metadata": {},
   "outputs": [],
   "source": [
    "def tensors_from_xyz(path):\n",
    "    with open(path, 'r') as f:\n",
    "        lines = f.readlines()\n",
    "        num_atoms = int(lines[0])\n",
    "        coordinates = []\n",
    "        species = []\n",
    "        element, a, b, c = lines[2].split()\n",
    "        cell = torch.diag(torch.tensor([float(a), float(b), float(c)]))\n",
    "        for line in lines[2:]:\n",
    "            values = line.split()\n",
    "            if values:\n",
    "                s = values[0].strip()\n",
    "                x = float(values[1])\n",
    "                y = float(values[2])\n",
    "                z = float(values[3])\n",
    "                coordinates.append([x, y, z])\n",
    "                species.append(PERIODIC_TABLE.index(s))\n",
    "        coordinates = torch.tensor(coordinates)\n",
    "        species = torch.tensor(species, dtype=torch.long)\n",
    "        assert coordinates.shape[0] == num_atoms\n",
    "        assert species.shape[0] == num_atoms\n",
    "    return species, coordinates\n",
    "\n",
    "\n",
    "\n",
    "def covariances(atomic_energies):\n",
    "    atomic_energies = atomic_energies.squeeze()\n",
    "    cov = np.cov(atomic_energies,rowvar=False)\n",
    "    atomic_variances = cov.diagonal()\n",
    "    av_sum = atomic_variances.sum()\n",
    "    atomic_stdev = np.sqrt(atomic_variances)\n",
    "    estimated_qbc = np.sqrt(sum(sum(cov)))/np.sqrt(len(atomic_variances))\n",
    "    \n",
    "    just_covariances = estimated_qbc - np.sum(atomic_variances)\n",
    "    \n",
    "    qbc = atomic_energies.sum(1).std(0,ddof=1)/np.sqrt(len(atomic_variances)) # TorchANI uses unbiased stdev, so N-1\n",
    "    \n",
    "    \n",
    "    assert math.isclose(qbc, estimated_qbc, abs_tol=0.0002) # Tolerance set to agree within 0.0002 Hartree (~.12 kcal/mol))\n",
    "\n",
    "    print('(1) Atomic energy variance', '(2) Covariances', '(3) QBC')\n",
    "    \n",
    "    return av_sum, just_covariances, qbc\n",
    "\n",
    "device = torch.device('cpu')\n",
    "model = torchani.models.ANI2xr()\n",
    "calculator = model.ase()"
   ]
  },
  {
   "cell_type": "code",
   "execution_count": 3,
   "id": "7d3152de",
   "metadata": {},
   "outputs": [],
   "source": [
    "ds_path = Path('/Users/nickterrel/.local/share/torchani/Datasets/ANI-1x-first-conformers.h5')\n",
    "\n",
    "ds = ANIDataset(locations=ds_path, names='1x first')\n",
    "device = torch.device('cpu')\n",
    "ani2xr = torchani.models.ANI2xr().double()\n",
    "calculator = torchani.models.ANI2xr().ase()"
   ]
  },
  {
   "cell_type": "code",
   "execution_count": 4,
   "id": "971ecb44",
   "metadata": {},
   "outputs": [],
   "source": [
    "ch4_species = ds['CH4']['species']\n",
    "ch4_coord =   ds['CH4']['coordinates']"
   ]
  },
  {
   "cell_type": "code",
   "execution_count": 5,
   "id": "03a62fb3",
   "metadata": {
    "scrolled": true
   },
   "outputs": [
    {
     "name": "stdout",
     "output_type": "stream",
     "text": [
      "      Step     Time          Energy          fmax\n",
      "BFGS:    0 16:16:38    -1101.647705        5.533762\n",
      "BFGS:    1 16:16:38    -1101.952026        1.600518\n",
      "BFGS:    2 16:16:38    -1101.993042        0.878979\n",
      "BFGS:    3 16:16:38    -1102.023438        0.518631\n",
      "BFGS:    4 16:16:38    -1102.040527        0.449113\n",
      "BFGS:    5 16:16:38    -1102.046021        0.162006\n",
      "BFGS:    6 16:16:38    -1102.046997        0.069265\n",
      "BFGS:    7 16:16:38    -1102.047119        0.035227\n",
      "(tensor([[6, 1, 1, 1, 1]]), tensor([[[-4.0232e-04,  2.4051e-02,  4.7213e-02],\n",
      "         [-9.1444e-01, -4.9060e-01, -2.5909e-01],\n",
      "         [-2.1344e-01,  6.5118e-01,  9.1721e-01],\n",
      "         [ 3.6255e-01,  6.4868e-01, -7.7390e-01],\n",
      "         [ 7.6324e-01, -7.1503e-01,  3.0134e-01]]], dtype=torch.float64))\n"
     ]
    }
   ],
   "source": [
    "ase_ch4 = ase.Atoms(numbers=ch4_species[0],positions=ch4_coord[0])\n",
    "ase_ch4.calc = calculator\n",
    "\n",
    "dyn = BFGS(ase_ch4)\n",
    "dyn.run(fmax=0.05)\n",
    "\n",
    "ch4_coord = torch.tensor(ase_ch4.positions[None])\n",
    "ch4 = (ch4_species, ch4_coord)\n",
    "\n",
    "print(ch4)"
   ]
  },
  {
   "cell_type": "code",
   "execution_count": 6,
   "id": "547f0fe1",
   "metadata": {
    "scrolled": true
   },
   "outputs": [
    {
     "data": {
      "text/plain": [
       "tensor([11.7615,  2.9427,  2.9396,  2.9388,  2.9430], dtype=torch.float64)"
      ]
     },
     "execution_count": 6,
     "metadata": {},
     "output_type": "execute_result"
    }
   ],
   "source": [
    "# Must use 'model.set_enabled(\"energy_shifter\", False)' to get output w/o GSAEs\n",
    "ani2xr.set_enabled(\"energy_shifter\", False)\n",
    "# Atomic energy, then sum over \n",
    "hartree2kcalpermol(ani2xr.atomic_energies(ch4,ensemble_values=True).energies.sum(1).std(0))"
   ]
  },
  {
   "cell_type": "code",
   "execution_count": 7,
   "id": "6e884102-8134-479a-92a7-9196b1d049a5",
   "metadata": {},
   "outputs": [
    {
     "data": {
      "text/plain": [
       "tensor([[11.7615,  2.9427,  2.9396,  2.9388,  2.9430]], dtype=torch.float64)"
      ]
     },
     "execution_count": 7,
     "metadata": {},
     "output_type": "execute_result"
    }
   ],
   "source": [
    "hartree2kcalpermol(ani2xr.atomic_energies(ch4,ensemble_values=True).energies.std(0))"
   ]
  },
  {
   "cell_type": "code",
   "execution_count": 8,
   "id": "1f3cb2f7-16e1-49d7-9008-23dcc12601ba",
   "metadata": {},
   "outputs": [
    {
     "data": {
      "text/plain": [
       "tensor([[[-219.4319,  -50.0001,  -50.0338,  -50.0290,  -50.0027]],\n",
       "\n",
       "        [[-194.7116,  -56.1861,  -56.2130,  -56.2035,  -56.1903]],\n",
       "\n",
       "        [[-192.8823,  -56.6347,  -56.6578,  -56.6536,  -56.6368]],\n",
       "\n",
       "        [[-201.5672,  -54.4301,  -54.4605,  -54.4534,  -54.4336]],\n",
       "\n",
       "        [[-196.5216,  -55.6916,  -55.7214,  -55.7133,  -55.6954]],\n",
       "\n",
       "        [[-212.9309,  -51.5789,  -51.6102,  -51.6048,  -51.5817]],\n",
       "\n",
       "        [[-186.5635,  -58.1870,  -58.2175,  -58.2056,  -58.1922]],\n",
       "\n",
       "        [[-187.4423,  -57.9895,  -58.0100,  -58.0075,  -57.9908]]],\n",
       "       dtype=torch.float64)"
      ]
     },
     "execution_count": 8,
     "metadata": {},
     "output_type": "execute_result"
    }
   ],
   "source": [
    "hartree2kcalpermol(ani2xr.atomic_energies(ch4,ensemble_values=True).energies)"
   ]
  },
  {
   "cell_type": "code",
   "execution_count": 9,
   "id": "f3cbbb74",
   "metadata": {},
   "outputs": [
    {
     "data": {
      "text/plain": [
       "tensor([[-419.4976],\n",
       "        [-419.5045],\n",
       "        [-419.4653],\n",
       "        [-419.3449],\n",
       "        [-419.3433],\n",
       "        [-419.3065],\n",
       "        [-419.3658],\n",
       "        [-419.4401]], dtype=torch.float64)"
      ]
     },
     "execution_count": 9,
     "metadata": {},
     "output_type": "execute_result"
    }
   ],
   "source": [
    "# Total energy per model\n",
    "hartree2kcalpermol(ani2xr(ch4, ensemble_values=True).energies)"
   ]
  },
  {
   "cell_type": "code",
   "execution_count": 10,
   "id": "737395f1",
   "metadata": {},
   "outputs": [
    {
     "data": {
      "text/plain": [
       "tensor([-419.4085], dtype=torch.float64)"
      ]
     },
     "execution_count": 10,
     "metadata": {},
     "output_type": "execute_result"
    }
   ],
   "source": [
    "hartree2kcalpermol(ani2xr(ch4).energies)"
   ]
  },
  {
   "cell_type": "code",
   "execution_count": 11,
   "id": "3ba0dbfa",
   "metadata": {},
   "outputs": [
    {
     "name": "stdout",
     "output_type": "stream",
     "text": [
      "[[-219.43191773  -50.00009135  -50.03382141  -50.02904322  -50.00271756]\n",
      " [-194.71161625  -56.18610887  -56.21296353  -56.20352363  -56.19027869]\n",
      " [-192.88231548  -56.63473898  -56.65781144  -56.65355779  -56.6368453 ]\n",
      " [-201.56722612  -54.43014634  -54.46050759  -54.45343689  -54.43356306]\n",
      " [-196.52156401  -55.69160292  -55.72140463  -55.71330989  -55.69537748]\n",
      " [-212.93089617  -51.57885894  -51.61024281  -51.60481557  -51.58170645]\n",
      " [-186.56354095  -58.18695209  -58.2175399   -58.20561715  -58.19218979]\n",
      " [-187.44227916  -57.9894555   -58.00998517  -58.00754064  -57.99083344]]\n"
     ]
    }
   ],
   "source": [
    "ch4_ae = hartree2kcalpermol(ani2xr.atomic_energies(ch4,ensemble_values=True).energies.squeeze().detach().numpy())\n",
    "print(ch4_ae)"
   ]
  },
  {
   "cell_type": "code",
   "execution_count": 12,
   "id": "bfb704a2",
   "metadata": {},
   "outputs": [
    {
     "data": {
      "text/plain": [
       "(8, 5)"
      ]
     },
     "execution_count": 12,
     "metadata": {},
     "output_type": "execute_result"
    }
   ],
   "source": [
    "ch4_ae.shape"
   ]
  },
  {
   "cell_type": "code",
   "execution_count": 13,
   "id": "d3277cd4",
   "metadata": {},
   "outputs": [
    {
     "data": {
      "text/plain": [
       "0.07236723843674867"
      ]
     },
     "execution_count": 13,
     "metadata": {},
     "output_type": "execute_result"
    }
   ],
   "source": [
    "ch4_ae.sum(1).std(0,ddof=0)"
   ]
  },
  {
   "cell_type": "code",
   "execution_count": 14,
   "id": "16240ab9",
   "metadata": {},
   "outputs": [
    {
     "data": {
      "text/plain": [
       "0.07736383207352418"
      ]
     },
     "execution_count": 14,
     "metadata": {},
     "output_type": "execute_result"
    }
   ],
   "source": [
    "hartree2kcalpermol(ani2xr.energies_qbcs(ch4).qbcs.item()*math.sqrt(5))\n",
    "# Equal up to float rounding precision"
   ]
  },
  {
   "cell_type": "code",
   "execution_count": null,
   "id": "9803d3ae",
   "metadata": {},
   "outputs": [],
   "source": []
  },
  {
   "cell_type": "code",
   "execution_count": 15,
   "id": "72c66c36",
   "metadata": {},
   "outputs": [
    {
     "name": "stdout",
     "output_type": "stream",
     "text": [
      "(1) Atomic energy variance (2) Covariances (3) QBC\n",
      "(172.93134613636636, -172.89674797886315, 0.03459815750325023)\n"
     ]
    }
   ],
   "source": [
    "print(covariances(ch4_ae))"
   ]
  },
  {
   "cell_type": "code",
   "execution_count": 16,
   "id": "a083d48a",
   "metadata": {},
   "outputs": [
    {
     "data": {
      "text/plain": [
       "array([0.07736383])"
      ]
     },
     "execution_count": 16,
     "metadata": {},
     "output_type": "execute_result"
    }
   ],
   "source": [
    "hartree2kcalpermol(ani2xr(ch4, ensemble_values=True).energies.std(0).detach().numpy())"
   ]
  },
  {
   "cell_type": "code",
   "execution_count": 49,
   "id": "d4215194",
   "metadata": {},
   "outputs": [
    {
     "name": "stdout",
     "output_type": "stream",
     "text": [
      "[[138.33268849 -34.610257   -34.57382676 -34.56353341 -34.61300735]\n",
      " [-34.610257     8.6597402    8.65059345   8.6480356    8.66042048]\n",
      " [-34.57382676   8.65059345   8.64146677   8.63890287   8.65127661]\n",
      " [-34.56353341   8.6480356    8.63890287   8.63634844   8.64871503]\n",
      " [-34.61300735   8.66042048   8.65127661   8.64871503   8.66110224]]\n",
      "Covariance matrix:\n",
      "             0          1          2          3          4\n",
      "0  138.332688 -34.610257 -34.573827 -34.563533 -34.613007\n",
      "1  -34.610257   8.659740   8.650593   8.648036   8.660420\n",
      "2  -34.573827   8.650593   8.641467   8.638903   8.651277\n",
      "3  -34.563533   8.648036   8.638903   8.636348   8.648715\n",
      "4  -34.613007   8.660420   8.651277   8.648715   8.661102\n",
      "\n",
      "AE variance (stdev squared):\n",
      " [138.33268849   8.6597402    8.64146677   8.63634844   8.66110224]\n",
      "Sum of AE stdev:\n",
      " 23.525614146691357\n",
      "\n",
      "Sum of covariances (off-diagonal elements):\n",
      " -23.448250314617948\n",
      "QBC from ANI (w/o dividing by N_atoms):\n",
      " [0.07736383] (kcal/mol)\n",
      "Sqrt of the sum over entire covariance matrix:\n",
      " 0.07736383207341074 (kcal/mol)\n"
     ]
    },
    {
     "data": {
      "image/png": "[encoded data removed]",
      "text/plain": [
       "<Figure size 1120x840 with 2 Axes>"
      ]
     },
     "metadata": {},
     "output_type": "display_data"
    }
   ],
   "source": [
    "ch4_cov = np.cov(ch4_ae,rowvar=False)\n",
    "print(ch4_cov)\n",
    "print('Covariance matrix:\\n',pd.DataFrame(ch4_cov))\n",
    "atomic_variances = ch4_cov.diagonal()\n",
    "atomic_stdev = np.sqrt(atomic_variances)\n",
    "print()\n",
    "print('AE variance (stdev squared):\\n',atomic_variances)\n",
    "print('Sum of AE stdev:\\n',np.sum(atomic_stdev))\n",
    "print()\n",
    "\n",
    "sqrt_sum_cov = np.sqrt(sum(sum(ch4_cov)))\n",
    "ch4_qbc = hartree2kcalpermol(ani2xr(ch4, ensemble_values=True).energies.std(0).detach().numpy())\n",
    "only_covariances = sqrt_sum_cov - np.sum(atomic_stdev)\n",
    "\n",
    "print('Sum of covariances (off-diagonal elements):\\n',only_covariances)\n",
    "\n",
    "print('QBC from ANI (w/o dividing by N_atoms):\\n',ch4_qbc,'(kcal/mol)')\n",
    "print('Sqrt of the sum over entire covariance matrix:\\n',sqrt_sum_cov,'(kcal/mol)')\n",
    "\n",
    "plt.rcParams['figure.dpi'] = 175\n",
    "\n",
    "fig, ax = plt.subplots()\n",
    "img = ax.matshow(ch4_cov)#, cmap='seismic_r')\n",
    "fig.colorbar(img)\n",
    "\n",
    "for (i, j), z in np.ndenumerate(ch4_cov):\n",
    "    ax.text(j, i, '{:0.1f}'.format(z), ha='center', va='center', fontweight=500)\n",
    "\n",
    "plt.savefig('./ch4_covariance.png')"
   ]
  },
  {
   "cell_type": "code",
   "execution_count": 22,
   "id": "cc656f64",
   "metadata": {},
   "outputs": [
    {
     "data": {
      "text/plain": [
       "array([[138.33268849, -34.610257  , -34.57382676, -34.56353341,\n",
       "        -34.61300735],\n",
       "       [-34.610257  ,   8.6597402 ,   8.65059345,   8.6480356 ,\n",
       "          8.66042048],\n",
       "       [-34.57382676,   8.65059345,   8.64146677,   8.63890287,\n",
       "          8.65127661],\n",
       "       [-34.56353341,   8.6480356 ,   8.63890287,   8.63634844,\n",
       "          8.64871503],\n",
       "       [-34.61300735,   8.66042048,   8.65127661,   8.64871503,\n",
       "          8.66110224]])"
      ]
     },
     "execution_count": 22,
     "metadata": {},
     "output_type": "execute_result"
    }
   ],
   "source": [
    "ch4_cov"
   ]
  },
  {
   "cell_type": "code",
   "execution_count": 79,
   "id": "d37ccc74-76f7-4c32-8f4c-df9df4b87f58",
   "metadata": {},
   "outputs": [
    {
     "data": {
      "image/png": "[encoded data removed]",
      "text/plain": [
       "<Figure size 1050x1050 with 2 Axes>"
      ]
     },
     "metadata": {},
     "output_type": "display_data"
    }
   ],
   "source": [
    "import numpy as np\n",
    "import matplotlib.pyplot as plt\n",
    "import matplotlib.colors as mcolors\n",
    "from matplotlib.colors import LinearSegmentedColormap\n",
    "import matplotlib.patches as patches  # Import patches for outlining\n",
    "\n",
    "plt.rcParams['font.family'] = 'Times New Roman'\n",
    "\n",
    "# Your covariance matrix\n",
    "ch4_cov = np.cov(ch4_ae, rowvar=False)\n",
    "\n",
    "# Define custom colormap with the new orange shade\n",
    "clist = [\n",
    "    (0.1, 0.6, 1.0),  # Blue for negative values\n",
    "    (1.0, 1.0, 1.0),  # White at zero\n",
    "    (231/255, 172/255, 59/255)  # New bright orange for positive values\n",
    "]\n",
    "cmap = LinearSegmentedColormap.from_list(\"cmap_name\", clist)\n",
    "\n",
    "# Normalize values with zero at the center\n",
    "norm = mcolors.TwoSlopeNorm(vmin=-20, vcenter=0, vmax=20)\n",
    "\n",
    "# Create figure\n",
    "plt.rcParams['figure.dpi'] = 175\n",
    "fig, ax = plt.subplots(figsize=(6, 6))  # Match figure size\n",
    "\n",
    "# Plot the covariance matrix with the updated colormap\n",
    "img = ax.matshow(ch4_cov, cmap=cmap, norm=norm)\n",
    "cbar = fig.colorbar(img, shrink=0.77, aspect=40)  # Match colorbar size\n",
    "\n",
    "# Customize color bar\n",
    "#cbar.set_label('Covariance Values', fontsize=10)\n",
    "cbar.set_ticks([-20, 0, 20])  # Set colorbar ticks at key points\n",
    "cbar.ax.set_yticklabels(['(–)', '0', '(+)'], fontsize=14, fontweight=500)  # Match styling\n",
    "\n",
    "# Annotate each cell with integer values and outline with black border\n",
    "for (i, j), z in np.ndenumerate(ch4_cov):\n",
    "    ax.text(j, i, '{:d}'.format(int(round(z))), ha='center', va='center', fontweight=500, fontsize=12)  # Round values\n",
    "    rect = patches.Rectangle((j - 0.5, i - 0.5), 1, 1, linewidth=0.8, edgecolor='black', facecolor='none')\n",
    "    ax.add_patch(rect)\n",
    "\n",
    "# Adjust tick labels on the axes\n",
    "ax.set_xticks(range(ch4_cov.shape[1]))\n",
    "ax.set_yticks(range(ch4_cov.shape[0]))\n",
    "ax.tick_params(axis='both', labelsize=12)\n",
    "\n",
    "plt.tight_layout()  # Adjust layout to prevent overlap\n",
    "\n",
    "# Save figure\n",
    "plt.savefig('./ch4_covariance_golden_orange.png')\n",
    "\n",
    "plt.show()"
   ]
  },
  {
   "cell_type": "code",
   "execution_count": 41,
   "id": "e8033265",
   "metadata": {},
   "outputs": [
    {
     "name": "stdout",
     "output_type": "stream",
     "text": [
      "(1) Atomic energy variance (2) Covariances (3) QBC\n"
     ]
    },
    {
     "data": {
      "text/plain": [
       "9.709307512508616"
      ]
     },
     "execution_count": 41,
     "metadata": {},
     "output_type": "execute_result"
    }
   ],
   "source": [
    "hartree2kcalpermol(covariances(ch4_ae)[2]/math.sqrt(5))"
   ]
  },
  {
   "cell_type": "code",
   "execution_count": 48,
   "id": "3315df06",
   "metadata": {},
   "outputs": [
    {
     "name": "stdout",
     "output_type": "stream",
     "text": [
      "Mol_E stdev: 0.00011027134710421398\n",
      "Atom_E stdev: tensor([11.7615,  2.9427,  2.9396,  2.9388,  2.9430], dtype=torch.float64)\n",
      "Sum of AE_std: tensor(23.5256, dtype=torch.float64)\n",
      "\n",
      "Covariance matrix:\n",
      " [[138.33268849 -34.610257   -34.57382676 -34.56353341 -34.61300735]\n",
      " [-34.610257     8.6597402    8.65059345   8.6480356    8.66042048]\n",
      " [-34.57382676   8.65059345   8.64146677   8.63890287   8.65127661]\n",
      " [-34.56353341   8.6480356    8.63890287   8.63634844   8.64871503]\n",
      " [-34.61300735   8.66042048   8.65127661   8.64871503   8.66110224]]\n",
      "Diagonal of cov matrix:\n",
      " [138.33268849   8.6597402    8.64146677   8.63634844   8.66110224]\n"
     ]
    }
   ],
   "source": [
    "print('Mol_E stdev:',ani2xr.energies_qbcs(ch4).qbcs.item()*math.isqrt(5))\n",
    "print('Atom_E stdev:',torch.tensor(ch4_ae).std(0, unbiased=True))\n",
    "print('Sum of AE_std:',torch.tensor(ch4_ae).std(0, unbiased=True).sum(0))\n",
    "print()\n",
    "print('Covariance matrix:\\n',ch4_cov)\n",
    "print('Diagonal of cov matrix:\\n',ch4_cov.diagonal()) # This gives \"variances\"\n"
   ]
  },
  {
   "cell_type": "code",
   "execution_count": 38,
   "id": "acf517f7",
   "metadata": {
    "scrolled": true
   },
   "outputs": [
    {
     "data": {
      "text/plain": [
       "array([[-219.43191773,  -50.00009135,  -50.03382141,  -50.02904322,\n",
       "         -50.00271756],\n",
       "       [-194.71161625,  -56.18610887,  -56.21296353,  -56.20352363,\n",
       "         -56.19027869],\n",
       "       [-192.88231548,  -56.63473898,  -56.65781144,  -56.65355779,\n",
       "         -56.6368453 ],\n",
       "       [-201.56722612,  -54.43014634,  -54.46050759,  -54.45343689,\n",
       "         -54.43356306],\n",
       "       [-196.52156401,  -55.69160292,  -55.72140463,  -55.71330989,\n",
       "         -55.69537748],\n",
       "       [-212.93089617,  -51.57885894,  -51.61024281,  -51.60481557,\n",
       "         -51.58170645],\n",
       "       [-186.56354095,  -58.18695209,  -58.2175399 ,  -58.20561715,\n",
       "         -58.19218979],\n",
       "       [-187.44227916,  -57.9894555 ,  -58.00998517,  -58.00754064,\n",
       "         -57.99083344]])"
      ]
     },
     "execution_count": 38,
     "metadata": {},
     "output_type": "execute_result"
    }
   ],
   "source": [
    "ch4_ae"
   ]
  },
  {
   "cell_type": "code",
   "execution_count": 49,
   "id": "653b08ef-3216-448b-9bbf-79cde298472d",
   "metadata": {},
   "outputs": [
    {
     "name": "stdout",
     "output_type": "stream",
     "text": [
      "(1) Atomic energy variance (2) Covariances (3) QBC\n"
     ]
    },
    {
     "data": {
      "text/plain": [
       "(172.93134613636664, -172.89674797886335, 0.03459815750324223)"
      ]
     },
     "execution_count": 49,
     "metadata": {},
     "output_type": "execute_result"
    }
   ],
   "source": [
    "covariances(ch4_ae)"
   ]
  },
  {
   "cell_type": "code",
   "execution_count": null,
   "id": "afcf2821-b842-4a21-aa26-b5161d1f9e68",
   "metadata": {},
   "outputs": [],
   "source": []
  }
 ],
 "metadata": {
  "kernelspec": {
   "display_name": "Python 3 (ipykernel)",
   "language": "python",
   "name": "python3"
  },
  "language_info": {
   "codemirror_mode": {
    "name": "ipython",
    "version": 3
   },
   "file_extension": ".py",
   "mimetype": "text/x-python",
   "name": "python",
   "nbconvert_exporter": "python",
   "pygments_lexer": "ipython3",
   "version": "3.13.1"
  }
 },
 "nbformat": 4,
 "nbformat_minor": 5
}
